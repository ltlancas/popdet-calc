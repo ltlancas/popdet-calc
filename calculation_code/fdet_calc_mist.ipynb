{
 "cells": [
  {
   "cell_type": "markdown",
   "metadata": {},
   "source": [
    "# $f_{\\rm det}$ Calculation"
   ]
  },
  {
   "cell_type": "markdown",
   "metadata": {},
   "source": [
    "Here we want to provide the code to calculate $f_{\\rm det}$ for a given set of isochrhones. Since this can be an expensive task, we're going to use Cython to speed up some parts of the code."
   ]
  },
  {
   "cell_type": "code",
   "execution_count": 1,
   "metadata": {},
   "outputs": [],
   "source": [
    "import numpy as np\n",
    "import matplotlib.pyplot as plt\n",
    "import time\n",
    "%load_ext Cython"
   ]
  },
  {
   "cell_type": "code",
   "execution_count": 5,
   "metadata": {},
   "outputs": [],
   "source": [
    "# First specify the properties of the populations you'd like to calculate f_detect for\n",
    "# by giving lists of metallicities and ages. These should be linearly spaced \n",
    "metlist = np.array([0.5,0.25,0.0,-0.25,-0.5,-0.75,-1.0,-1.25,-1.5,-1.75,-2.0,-2.25,-2.5,-2.75,-3.,-3.25])\n",
    "agelist = np.array([8.95,9.,9.05,9.1,9.15,9.2,9.25,9.3,9.35,9.4,9.45,9.5,9.55,9.6,9.65,9.7,9.75,9.8,9.85,9.9,9.95,10.,10.05,10.1,10.15])\n",
    "nmet = len(metlist) # number of metallicities\n",
    "nage = len(agelist) # number of ages\n",
    "dage = agelist[1] - agelist[0] # logarithmic difference in age bins, for selection below\n",
    "\n",
    "## specify directory where isochrones are stored, this is set up for the \n",
    "## MIST Roman Isocrones, changing that would involve changing the below\n",
    "iso_dir = \"../mist_isos/\"\n",
    "## name od output file\n",
    "output_name = \"data/fdet_mist\" # it will have a .npy at the end\n",
    "\n",
    "## define the IMF normalization\n",
    "## specify the power-law index for the IMF that you would like to use\n",
    "mpow = -1.3\n",
    "## specify the number of mass samples you would like for integrals to be \n",
    "## numericall performed below\n",
    "nmass_samp = 100000000\n",
    "# mass range in solar masses\n",
    "(mMin,mMax) = (0.1,100)\n",
    "# masses spaced linearly throughout imf space\n",
    "mlin = np.linspace(mMin,mMax,nmass_samp)\n",
    "# the IMF normalization over the mass range of interest\n",
    "xim_norm = np.trapz(mlin**mpow,mlin)\n",
    "\n",
    "# then specify the range of *absolute* magnitudes you would like to cover\n",
    "# these are related to the exposure time of the observation and the distance \n",
    "# to the observed population through Eq 2 of our paper\n",
    "nmags = 100\n",
    "# what are the brightest and faintest magnitudes you want to calculate for\n",
    "(minMag,maxMag) = (3,-7)\n",
    "# get the range of absolute magnitudes you would like to calculate fdet for\n",
    "Mags = np.linspace(minMag,maxMag,nmags)\n",
    "# specify the number of filters. The default is 6 (Z,Y,J,H,F). Changing this \n",
    "# number will require some hard code changes below\n",
    "nfilts = 5"
   ]
  },
  {
   "cell_type": "code",
   "execution_count": 3,
   "metadata": {},
   "outputs": [],
   "source": [
    "%%cython\n",
    "# cython: boundscheck=False, wraparound=False, nonecheck=False, cdivision=True\n",
    "import numpy as np\n",
    "cimport numpy as np\n",
    "\n",
    "\n",
    "cimport cython\n",
    "\n",
    "cpdef double get_f(const double[::1] B_mu, const double B_cut, \n",
    "                   const double[::1] ms, const double[::1] xiofm, \n",
    "                   const int N):\n",
    "    cdef:\n",
    "        double fsum = 0\n",
    "        double aB,bB,aX,bX,mcross,xicross\n",
    "        int i\n",
    "    \n",
    "    for i in range(N-1):\n",
    "        if((B_mu[i]<B_cut) and (B_mu[i+1] < B_cut)):\n",
    "            fsum += (xiofm[i] + xiofm[i+1])*(ms[i+1] - ms[i])/2.\n",
    "        \n",
    "        elif((B_mu[i]<B_cut) or (B_mu[i+1] < B_cut)):\n",
    "            aB = (B_mu[i+1] - B_mu[i])/(ms[i+1] - ms[i])\n",
    "            bB = B_mu[i] - ms[i]*aB\n",
    "            mcross = (B_cut - bB)/aB\n",
    "            aX = (xiofm[i+1] - xiofm[i])/(ms[i+1] - ms[i])\n",
    "            bX = xiofm[i] - ms[i]*aX\n",
    "            xicross = mcross*aX + bX\n",
    "            if(B_mu[i]<B_cut):\n",
    "                fsum += (xiofm[i] + xicross)*(mcross - ms[i])/2.\n",
    "            else:\n",
    "                fsum += (xicross + xiofm[i+1])*(ms[i+1] - mcross)/2.\n",
    "    return fsum"
   ]
  },
  {
   "cell_type": "code",
   "execution_count": 4,
   "metadata": {},
   "outputs": [
    {
     "name": "stdout",
     "output_type": "stream",
     "text": [
      "0.5\n",
      "0.25\n",
      "0.0\n",
      "-0.25\n",
      "-0.5\n",
      "-0.75\n",
      "-1.0\n",
      "-1.25\n",
      "-1.5\n",
      "-1.75\n",
      "-2.0\n",
      "-2.25\n",
      "-2.5\n",
      "-2.75\n",
      "-3.0\n",
      "-3.25\n",
      "CPU times: user 36.9 s, sys: 1.3 s, total: 38.2 s\n",
      "Wall time: 38.5 s\n"
     ]
    }
   ],
   "source": [
    "%%time\n",
    "# shape of the total output array\n",
    "totdat = np.zeros((nmet,nage,nmags,nfilts+1))\n",
    "for (l,met) in enumerate(metlist):\n",
    "    print(met)\n",
    "    if met>-0.1:\n",
    "        (age,imass,T,L) = np.loadtxt(\"%smist_fehp%1.2f.iso.cmd\"%(iso_dir,abs(met)),usecols=[1,2,4,6]).T\n",
    "        (Z,Y,J,H,F) = np.loadtxt(\"%smist_fehp%1.2f.iso.cmd\"%(iso_dir,abs(met)),usecols=[10,11,12,14,15]).T\n",
    "    else:\n",
    "        (age,imass,T,L) = np.loadtxt(\"%smist_fehm%1.2f.iso.cmd\"%(iso_dir,abs(met)),usecols=[1,2,4,6]).T\n",
    "        (Z,Y,J,H,F) = np.loadtxt(\"%smist_fehm%1.2f.iso.cmd\"%(iso_dir,abs(met)),usecols=[10,11,12,14,15]).T\n",
    "\n",
    "    tsave = np.zeros((nage,nmags,nfilts + 1))\n",
    "    # select a single isochrone\n",
    "    for (k,a) in enumerate(agelist):\n",
    "        sids = np.intersect1d(np.where(age>a-dage/2),np.where(age<a+dage/2))\n",
    "\n",
    "        # interpolate what the right magnitudes are\n",
    "        AB_Vega = np.array([0.487, 0.653, 0.958, 1.287, 1.552]) # This is m_AB - m_Vega\n",
    "        Z_out = Z[sids] + AB_Vega[0]\n",
    "        Y_out = Y[sids] + AB_Vega[1]\n",
    "        J_out = J[sids] + AB_Vega[2]\n",
    "        H_out = H[sids] + AB_Vega[3]\n",
    "        F_out = F[sids] + AB_Vega[4]\n",
    "        mlin = imass[sids]\n",
    "        xim = (imass[sids]**mpow)/xim_norm\n",
    "        (fZdetect,fYdetect,fJdetect,fHdetect,fFdetect) = (np.zeros(nmags),np.zeros(nmags),np.zeros(nmags),np.zeros(nmags),np.zeros(nmags))\n",
    "        for (i,mag) in enumerate(Mags):\n",
    "            fZdetect[i] = get_f(Z_out,mag,mlin,xim,len(xim))\n",
    "            fYdetect[i] = get_f(Y_out,mag,mlin,xim,len(xim))\n",
    "            fJdetect[i] = get_f(J_out,mag,mlin,xim,len(xim))\n",
    "            fHdetect[i] = get_f(H_out,mag,mlin,xim,len(xim))\n",
    "            fFdetect[i] = get_f(F_out,mag,mlin,xim,len(xim))\n",
    "        tsave[k] = np.array([Mags,fZdetect,fYdetect,fJdetect,fHdetect,fFdetect]).T\n",
    "    totdat[l] = tsave"
   ]
  },
  {
   "cell_type": "code",
   "execution_count": 6,
   "metadata": {},
   "outputs": [],
   "source": [
    "np.save(output_name,totdat)"
   ]
  },
  {
   "cell_type": "code",
   "execution_count": null,
   "metadata": {},
   "outputs": [],
   "source": []
  }
 ],
 "metadata": {
  "kernelspec": {
   "display_name": "Python 3",
   "language": "python",
   "name": "python3"
  },
  "language_info": {
   "codemirror_mode": {
    "name": "ipython",
    "version": 3
   },
   "file_extension": ".py",
   "mimetype": "text/x-python",
   "name": "python",
   "nbconvert_exporter": "python",
   "pygments_lexer": "ipython3",
   "version": "3.6.3"
  }
 },
 "nbformat": 4,
 "nbformat_minor": 2
}
