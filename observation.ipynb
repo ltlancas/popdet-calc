{
 "cells": [
  {
   "cell_type": "markdown",
   "metadata": {},
   "source": [
    "# Functions for Helping Translate Results to Real Observations"
   ]
  },
  {
   "cell_type": "markdown",
   "metadata": {},
   "source": [
    "In this notebook we want to supply the user with a small suite of helper functions that will hopefully be useful in planning a given observation. All of these calculations can be done in the context of either set of isochrones that we investigate here."
   ]
  },
  {
   "cell_type": "code",
   "execution_count": 1,
   "metadata": {},
   "outputs": [],
   "source": [
    "# all we need is numpy, matplotlib, and a scipy interpolation class\n",
    "import numpy as np\n",
    "import matplotlib.pyplot as plt\n",
    "from scipy import interpolate"
   ]
  },
  {
   "cell_type": "code",
   "execution_count": 2,
   "metadata": {},
   "outputs": [],
   "source": [
    "# These are just preferences for making plots\n",
    "# If you are getting errors from matplotlib, feel free to comment this out\n",
    "plt.rc('font', **{'size': 8, 'sans-serif': ['Helvetica'], 'family': 'sans-serif'})\n",
    "plt.rc('legend',**{'fontsize':6})                                             \n",
    "plt.rc(\"text.latex\", preamble=[\n",
    "    \"\\\\usepackage[T1]{fontenc}\\\\usepackage{amsmath}\"])\n",
    "plt.rc(\"text\", usetex=True)\n",
    "plt.rc('ps', usedistiller='xpdf')\n",
    "plt.rc('savefig', **{'dpi': 300})"
   ]
  },
  {
   "cell_type": "markdown",
   "metadata": {},
   "source": [
    "We begin by defining a lot of the same variables and loading a lot of the same pre-calcaulated values that we defined and pre-loaded in the walkthrough notebook."
   ]
  },
  {
   "cell_type": "code",
   "execution_count": 3,
   "metadata": {},
   "outputs": [],
   "source": [
    "# First setting the range of metallicities and ages that are covered, these are our default values\n",
    "metlist = np.array([0.5,0.25,0.0,-0.25,-0.5,-0.75,-1.0,-1.25,-1.5,-1.75,-2.0,-2.25,-2.5,-2.75,-3.,-3.25])\n",
    "agelist = np.array([8.95,9.,9.05,9.1,9.15,9.2,9.25,9.3,9.35,9.4,9.45,9.5,9.55,9.6,9.65,9.7,9.75,9.8,9.85,9.9,9.95,10.,10.05,10.1])\n",
    "nmet  = len(metlist)\n",
    "nage  = len(agelist)"
   ]
  },
  {
   "cell_type": "code",
   "execution_count": 4,
   "metadata": {},
   "outputs": [],
   "source": [
    "# for MIST\n",
    "nfilt = 7\n",
    "filter_names = np.array([r\"$F062/R$\",r\"$F087/Z$\",r\"$F106/Y$\",r\"$F129/J$\",r\"$F146/W$\",r\"$F158/H$\",r\"$F184$\"])\n",
    "# for Padova\n",
    "#nfilt = 8\n",
    "#filter_names = np.array([r\"$F062/R$\",r\"$F087/Z$\",r\"$F106/Y$\",r\"$F129/J$\",r\"$F146/W$\",r\"$F158/H$\",r\"$F184$\",r\"$F213/K_s$\"])"
   ]
  },
  {
   "cell_type": "code",
   "execution_count": 5,
   "metadata": {},
   "outputs": [],
   "source": [
    "## For MIST\n",
    "## Order here is F062, F087, F106, F129, F146, F158, F184\n",
    "ps_detect_5slim = np.array([27.8, 27.5, 27.4, 27.3, 27.6, 27.3, 26.8])\n",
    "\n",
    "## For Padova\n",
    "## Order here is F062, F087, F106, F129, F146, F158, F184, F213/Ks\n",
    "#ps_detect_5slim = np.array([27.8, 27.5, 27.4, 27.3, 27.6, 27.3, 26.8, 25.5])"
   ]
  },
  {
   "cell_type": "code",
   "execution_count": 6,
   "metadata": {},
   "outputs": [],
   "source": [
    "## for MIST\n",
    "## Here is the f_det file\n",
    "fdet = np.load(\"data/fdet_mist.npy\")\n",
    "## The average luminosity file\n",
    "lum = np.load(\"data/lum_mist.npy\")\n",
    "## And the Second luminosity moment file\n",
    "L2 = np.load(\"data/l2_mist.npy\")\n",
    "\n",
    "## for Padova\n",
    "## Here is the f_det file\n",
    "#fdet = np.load(\"data/fdet_padova.npy\")\n",
    "## The average luminosity file\n",
    "#lum = np.load(\"data/lum_padova.npy\")\n",
    "## And the Second luminosity moment file\n",
    "#L2 = np.load(\"data/l2_padova.npy\")"
   ]
  },
  {
   "cell_type": "markdown",
   "metadata": {},
   "source": [
    "Okay, we've loaded them, now we want to assure that they have the right shapes. The same way we did in the walkthrough notebook."
   ]
  },
  {
   "cell_type": "code",
   "execution_count": 7,
   "metadata": {},
   "outputs": [],
   "source": [
    "# the limiting magnitudes that fdet was calculated for should take up \n",
    "# the \"first\" slot in the filter dimension. It's the same for every population\n",
    "# and filter, so there's a lot of repeated information\n",
    "nmags = fdet.shape[2]\n",
    "Mags = fdet[0,0,:,0]"
   ]
  },
  {
   "cell_type": "code",
   "execution_count": 8,
   "metadata": {},
   "outputs": [
    {
     "name": "stdout",
     "output_type": "stream",
     "text": [
      "These should be the same: (16, 24, 100, 8) (16, 24, 100, 8)\n"
     ]
    }
   ],
   "source": [
    "# check that fdet is the correct shape\n",
    "print(\"These should be the same: (%d, %d, %d, %d)\"%(nmet,nage,nmags,nfilt+1),fdet.shape)"
   ]
  },
  {
   "cell_type": "code",
   "execution_count": 9,
   "metadata": {},
   "outputs": [
    {
     "name": "stdout",
     "output_type": "stream",
     "text": [
      "These should be the same: (16, 24, 7) (16, 24, 7)\n"
     ]
    }
   ],
   "source": [
    "# The shape of lum should be (nmet, nage, nfilt)\n",
    "print(\"These should be the same: (%d, %d, %d)\"%(nmet,nage,nfilt),lum.shape)"
   ]
  },
  {
   "cell_type": "code",
   "execution_count": 10,
   "metadata": {},
   "outputs": [
    {
     "name": "stdout",
     "output_type": "stream",
     "text": [
      "These should be the same: (16, 24, 7, 100) (16, 24, 7, 100)\n"
     ]
    }
   ],
   "source": [
    "# The shape of L2 should be (nmet, nage, nfilt, nmags)\n",
    "print(\"These should be the same: (%d, %d, %d, %d)\"%(nmet,nage,nfilt,nmags),L2.shape)"
   ]
  },
  {
   "cell_type": "markdown",
   "metadata": {},
   "source": [
    "Now we start with some of the useful functions. The firs set defined here have to do with crowding which we cover at the end of the walkthrough notebook. Each function is commented and should be relatively straightforward to understand what it does (with a little reading :) ). We begin by defining the same constants we needed for the crowding calculation before."
   ]
  },
  {
   "cell_type": "code",
   "execution_count": 11,
   "metadata": {},
   "outputs": [],
   "source": [
    "sigm = 0.01 # photometric precision of measurement in magnitudes\n",
    "ares = (0.1)**2 # psf area in square arceseconds (assumed top hat) this should really vary with filter"
   ]
  },
  {
   "cell_type": "markdown",
   "metadata": {},
   "source": [
    "And here are the useful functions..."
   ]
  },
  {
   "cell_type": "code",
   "execution_count": 12,
   "metadata": {},
   "outputs": [],
   "source": [
    "# function for getting the final term in Equation 6 of our paper\n",
    "def get_olsen_term(sigmaB,A,Bcut,Lavg,l2_Mags,l2):\n",
    "    # interpolate the l2 values calculated for a range of limiting \n",
    "    # absolute magnitudes on to the limiting absolute magnitudes\n",
    "    # calculated here\n",
    "    L2_interp = np.interp(Bcut,l2_Mags[::-1],l2[::-1])\n",
    "    # calculate the last term in Equation 8 in our paper\n",
    "    return 2.5*np.log10(((sigmaB/1.086)**2)*(Lavg)/(A*L2_interp))\n",
    "\n",
    "# function for determining the magnitude that we *can* get the \n",
    "# photometry of accurately if we are in the crowding limited \n",
    "# regime by interpolating\n",
    "def get_Mcrowd(S,d,mi,aj,fk):\n",
    "    # calculate distance modulus\n",
    "    mu = 25 + 5*np.log10(d)\n",
    "    # get the limiting magnitudes to check\n",
    "    Mags = fdet[mi,aj,:,0]\n",
    "    # get the olsen terms to interpolate between\n",
    "    ols_terms = get_olsen_term(sigm,ares,Mags,lum[mi,aj,fk],fdet[mi,aj,:,0],L2[mi,aj,fk])\n",
    "    # define the crowding limited surface brightness as a function \n",
    "    # of limiting magnitude of the observation\n",
    "    lim_sb = 2*Mags + mu - ols_terms\n",
    "    # interpolate the correct limiting magnitude based on when the \n",
    "    # surface brightness limit would be reached\n",
    "    res = np.interp(S,lim_sb[::-1],Mags[::-1])\n",
    "    return res\n",
    "    \n",
    "# function for getting the expected number of stars per square \n",
    "# arcsecond over some constant surface brightness area, also \n",
    "# returns whether or not the crowding limit has been reahed\n",
    "def getndet_singleSurf(S, d, texp, mi, aj, fk):\n",
    "    # args S = surface brightness in this grid\n",
    "    #      others are as below\n",
    "    # calculate distance modulus\n",
    "    mu = 25 + 5*np.log10(d)\n",
    "    # and limiting magnitude\n",
    "    Mlim = ps_detect_5slim[fk] - mu + 1.25*np.log10(texp/1e3)\n",
    "    # total number density of stars\n",
    "    ntot_here = 10**((S-mu)/-2.5)/lum[mi,aj,fk]\n",
    "    # fraction of stars that are detected\n",
    "    fdet_here = np.interp(Mlim,fdet[mi,aj,:,0][::-1],fdet[mi,aj,:,fk+1][::-1])\n",
    "\n",
    "    # determine whether we are past the crowding limit in surface brightness\n",
    "    ols_fac = get_olsen_term(sigm,ares,Mlim,lum[mi,aj,fk],fdet[mi,aj,:,0],L2[mi,aj,fk])\n",
    "    # this is our limiting surface brightness for\n",
    "    # crowding as a function of exposure time\n",
    "    lso =  2*Mlim + mu - ols_fac\n",
    "    crowded = lso>S\n",
    "    if crowded:\n",
    "        # if the region is crowded, we calculate the magnitude limit that it \n",
    "        # would not be crowded for and then the number of those stars that \n",
    "        # we end up detecting\n",
    "        Mcrowd = get_Mcrowd(S,d,mi,aj,fk)\n",
    "        fdet_crowd = np.interp(Mcrowd,fdet[mi,aj,:,0][::-1],fdet[mi,aj,:,fk+1][::-1])\n",
    "        return (1.0,ntot_here*fdet_crowd)\n",
    "    else:\n",
    "        return (0.0,ntot_here*fdet_here)\n",
    "\n",
    "# function for getting the expected number of resolved stars\n",
    "# across a grid of surface brightness for a single age and \n",
    "# metallicity population at a given distance in a single band\n",
    "# also returns map of where the observation is crowding limited\n",
    "def getN_gridSurf(surfGrid, ang, d, texp, mi, aj, fk):\n",
    "    # args surfGrid = square grid of surface brightnesses\n",
    "    #      ang      = angular scale of one side of grid in arcsec\n",
    "    #      d        = distance to population in Mpc\n",
    "    #      texp     = exposure time in seconds\n",
    "    #      mi       = metallicity index\n",
    "    #      aj       = age index\n",
    "    #      fk       = filter index\n",
    "    # make sure that the grid is the right shape\n",
    "    assert(len(surfGrid.shape)==2)\n",
    "    assert(surfGrid.shape[0]==surfGrid.shape[1])\n",
    "    # determine sky area of each cell in grid\n",
    "    Nside = surfGrid.shape[0]\n",
    "    area_sqarc = (ang/Nside)**2\n",
    "    Nres = 0.0\n",
    "    # create map to indicate where observation is crowded\n",
    "    crowd_map = np.zeros(surfGrid.shape).flatten()\n",
    "    for (j,surf) in enumerate(surfGrid.flatten()):\n",
    "        (crowd,nhere) = getndet_singleSurf(surf,d,texp,mi,aj,fk)\n",
    "        crowd_map[j] = crowd\n",
    "        Nres += area_sqarc*nhere\n",
    "    return (crowd_map.reshape(surfGrid.shape),Nres)\n",
    "\n",
    "# a function to give you the surface brightness in another\n",
    "# band given the surface brightness in some band and the \n",
    "# properties of the population\n",
    "def convert_Sigma(surfIn,f_in,f_out,mi,aj):\n",
    "    # args surfIn = surface brightness in reference band\n",
    "    #      f_in   = index of reference filter\n",
    "    #      f_out  = index of desired filter out\n",
    "    #      mi     = metallicity index\n",
    "    #      aj     = age index\n",
    "    return surfIn - 2.5*np.log10(lum[mi,aj,f_out]/lum[mi,aj,f_in])"
   ]
  },
  {
   "cell_type": "markdown",
   "metadata": {},
   "source": [
    "The functions in this next cell are only for drawing a RST field of view on some image to give you a better idea of exactly what you are observing. Understanding the drawing functions is probably not so important."
   ]
  },
  {
   "cell_type": "code",
   "execution_count": 13,
   "metadata": {},
   "outputs": [],
   "source": [
    "## Here are some functions for drawing the WFIRST FoV\n",
    "def rot_xy(x,y,phi):\n",
    "    return (np.cos(phi)*x -np.sin(phi)*y,np.sin(phi)*x+np.cos(phi)*y)\n",
    "\n",
    "def draw_detector(ax,ra0,dec0,L,phi):\n",
    "    (x0,y0) = rot_xy(-L/2,-L/2,phi)\n",
    "    (x1,y1) = rot_xy(L/2,-L/2,phi)\n",
    "    (x2,y2) = rot_xy(L/2,L/2,phi)\n",
    "    (x3,y3) = rot_xy(-L/2,L/2,phi)\n",
    "    ax.plot([x0+ra0,x1+ra0],[y0+dec0,y1+dec0],'w',lw=0.5)\n",
    "    ax.plot([x1+ra0,x2+ra0],[y1+dec0,y2+dec0],'w',lw=0.5)\n",
    "    ax.plot([x2+ra0,x3+ra0],[y2+dec0,y3+dec0],'w',lw=0.5)\n",
    "    ax.plot([x3+ra0,x0+ra0],[y3+dec0,y0+dec0],'w',lw=0.5)\n",
    "    return None\n",
    "\n",
    "def plot_RST_foV(ax,ra0,dec0,scal,phi):\n",
    "    dL = 0.125*scal # side-length of detector in degrees\n",
    "    dy1 = 0.01*scal\n",
    "    dy2 = 0.03*scal\n",
    "    dx = 0.02*scal\n",
    "    (rl1,rr1) = (-(dx+dL)/2,(dx+dL)/2)\n",
    "    (rl2,rr2) = (-3*(dx+dL)/2,3*(dx+dL)/2)\n",
    "    (rl3,rr3) = (-5*(dx+dL)/2,5*(dx+dL)/2)\n",
    "    dec2 = dL/4\n",
    "    dec3 = dec2+(dL + dy1)/2\n",
    "    (x,y) = rot_xy(rl1,0.,phi)\n",
    "    draw_detector(ax,ra0+x,dec0+y,dL,phi)\n",
    "    (x,y) = rot_xy(rr1,0.,phi)\n",
    "    draw_detector(ax,ra0+x,dec0+y,dL,phi)\n",
    "    (x,y) = rot_xy(rl1,0.+(dL + dy1),phi)\n",
    "    draw_detector(ax,ra0+x,dec0+y,dL,phi)\n",
    "    (x,y) = rot_xy(rr1,0.+(dL + dy1),phi)\n",
    "    draw_detector(ax,ra0+x,dec0+y,dL,phi)\n",
    "    (x,y) = rot_xy(rl1,0.-(dL + dy2),phi)\n",
    "    draw_detector(ax,ra0+x,dec0+y,dL,phi)\n",
    "    (x,y) = rot_xy(rr1,0.-(dL + dy2),phi)\n",
    "    draw_detector(ax,ra0+x,dec0+y,dL,phi)\n",
    "\n",
    "    (x,y) = rot_xy(rl2,dec2,phi)\n",
    "    draw_detector(ax,ra0+x,dec0+y,dL,phi)\n",
    "    (x,y) = rot_xy(rr2,dec2,phi)\n",
    "    draw_detector(ax,ra0+x,dec0+y,dL,phi)\n",
    "    (x,y) = rot_xy(rl2,dec2+(dL + dy1),phi)\n",
    "    draw_detector(ax,ra0+x,dec0+y,dL,phi)\n",
    "    (x,y) = rot_xy(rr2,dec2+(dL + dy1),phi)\n",
    "    draw_detector(ax,ra0+x,dec0+y,dL,phi)\n",
    "    (x,y) = rot_xy(rl2,dec2-(dL + dy2),phi)\n",
    "    draw_detector(ax,ra0+x,dec0+y,dL,phi)\n",
    "    (x,y) = rot_xy(rr2,dec2-(dL + dy2),phi)\n",
    "    draw_detector(ax,ra0+x,dec0+y,dL,phi)\n",
    "\n",
    "    (x,y) = rot_xy(rl3,dec3,phi)\n",
    "    draw_detector(ax,ra0+x,dec0+y,dL,phi)\n",
    "    (x,y) = rot_xy(rr3,dec3,phi)\n",
    "    draw_detector(ax,ra0+x,dec0+y,dL,phi)\n",
    "    (x,y) = rot_xy(rl3,dec3+(dL + dy1),phi)\n",
    "    draw_detector(ax,ra0+x,dec0+y,dL,phi)\n",
    "    (x,y) = rot_xy(rr3,dec3+(dL + dy1),phi)\n",
    "    draw_detector(ax,ra0+x,dec0+y,dL,phi)\n",
    "    (x,y) = rot_xy(rl3,dec3-(dL + dy2),phi)\n",
    "    draw_detector(ax,ra0+x,dec0+y,dL,phi)\n",
    "    (x,y) = rot_xy(rr3,dec3-(dL + dy2),phi)\n",
    "    draw_detector(ax,ra0+x,dec0+y,dL,phi)\n",
    "    return None"
   ]
  },
  {
   "cell_type": "markdown",
   "metadata": {},
   "source": [
    "Okay, the next part is probably the most useful set of functions. These functions will take as input a map of surface brightness in a given band, the observation properties (pop. parameters, distance, $t_{\\rm exp}$, etc.), and the positioning of the RST FoV on the surface brightness map (center and rotation angle) and return the expected number of observed stars."
   ]
  },
  {
   "cell_type": "code",
   "execution_count": 14,
   "metadata": {},
   "outputs": [],
   "source": [
    "def getN_chip(Sinterp, xc0, yc0, xcs, ycs, x0, y0, phi, ang, d, texp, mi, aj, fk):\n",
    "    (x,y) = rot_xy(xc0,yc0,phi)\n",
    "    surfGridi = Sinterp.ev(xcs+x+x0,ycs+y+y0)\n",
    "    (cmi,Ni) = getN_gridSurf(surfGridi, ang, d, texp, mi, aj, fk)\n",
    "    return (np.sum(cmi),Ni)\n",
    "    \n",
    "# Function to get the expected number of stars across the \n",
    "# whole RST detector given an input surface brightness map\n",
    "# and population parameters as well as FoV orientation\n",
    "def getN_RST(surfGrid, ang, d, texp, mi, aj, fk, x0, y0, phi, nchip):\n",
    "    # args surfGrid = square grid of surface brightnesses\n",
    "    #      ang      = angular scale of one side of surfGrid in arcsec\n",
    "    #      d        = distance to population in Mpc\n",
    "    #      texp     = exposure time in seconds\n",
    "    #      mi       = metallicity index\n",
    "    #      aj       = age index\n",
    "    #      fk       = filter index\n",
    "    #      (x0,y0)  = position of center of RST field\n",
    "    #      phi      = rotation of RST FoV\n",
    "    #      nchip    = number of pixels to a side on a chip\n",
    "    ## initialize the total number of detected stars dertecetd\n",
    "    Ndet = 0\n",
    "    ## initialize number of crowded pixels to 0\n",
    "    Ncrowd = 0\n",
    "    ## create an interpolation function, to be used below\n",
    "    xlin = np.linspace(-1*ang/2,ang/2,surfGrid.shape[0])\n",
    "    (xg,yg) = np.meshgrid(xlin,xlin)\n",
    "    Surf_interp = interpolate.RectBivariateSpline(xlin, xlin, surfGrid)\n",
    "\n",
    "    ## define some constants with relation to \n",
    "    ## the scale of the detector size/shape\n",
    "    dL = 450 # side-length of detector in arcseconds\n",
    "    dy1 = 36 # smaller vertical spacing between chips\n",
    "    dy2 = 108 # larger vertical spacing\n",
    "    dx = 72 # horizontal spacing between chips\n",
    "    # x positions of 6 columns of chips\n",
    "    (xl1,xr1) = (-(dx+dL)/2,(dx+dL)/2)\n",
    "    (xl2,xr2) = (-3*(dx+dL)/2,3*(dx+dL)/2)\n",
    "    (xl3,xr3) = (-5*(dx+dL)/2,5*(dx+dL)/2)\n",
    "    y02 = dL/4 # y offset of 2nd/4th chip columns\n",
    "    y03 = y02+(dL + dy1)/2 # y offset of outer chip columns\n",
    "    yt = dL + dy1 # y offset from column center of top chip\n",
    "    yb = -(dL + dy2) # y offset from column center of bottom chip\n",
    "    # get a list together of all chip center coords\n",
    "    chip_coords = [(xl1,0),(xr1,0),(xl1,yt),(xr1,yt),(xl1,yb),(xr1,yb),\\\n",
    "                   (xl1,y02),(xr1,y02),(xl1,y02+yt),(xr1,y02+yt),(xl1,y02+yb),(xr1,y02+yb),\\\n",
    "                   (xl1,y03),(xr1,y03),(xl1,y03+yt),(xr1,y03+yt),(xl1,y03+yb),(xr1,y03+yb)]\n",
    "    # create the default chip grid\n",
    "    chlin = np.linspace(-dL/2,dL/2,nchip)\n",
    "    (xc,yc) = np.meshgrid(chlin,chlin)\n",
    "    # rotate the default chip grid\n",
    "    (xc,yc) = rot_xy(xc,yc,phi)\n",
    "    ## Go through each chip\n",
    "    for (xci,yci) in chip_coords:\n",
    "        (Nci,Ni) = getN_chip(Surf_interp,xci,yci,xc,yc,x0,y0,phi,dL,d,texp,mi,aj,fk)\n",
    "        Ncrowd += Nci\n",
    "        Ndet += Ni    \n",
    "    return (Ncrowd*1./(nchip**2 *18),Ndet)"
   ]
  },
  {
   "cell_type": "markdown",
   "metadata": {},
   "source": [
    "These are some example concrete (but not by any means actually realistic) examples of surface brightness profiles 'inspired by' observations of real galaxies. I say 'inspired by' because these are just radial profiles, the actual observations are much more realisitic."
   ]
  },
  {
   "cell_type": "code",
   "execution_count": 15,
   "metadata": {},
   "outputs": [],
   "source": [
    "# This one is for Centaurus A\n",
    "def cenA_surf(r):\n",
    "    ## parameters for a surface brightness profile of CenA\n",
    "    # halo, made \"by-eye\" from Fig. 9 of Crnojevic et al. 2016\n",
    "    # this is surface brightness in the r-band\n",
    "    (Sa,ra,Sb,rb) = (27,60,32,420)\n",
    "    m = (Sb-Sa)/(rb-ra)\n",
    "    b = Sa - m*ra\n",
    "    Slin = m*r+b\n",
    "\n",
    "    Llin = 10**(Slin/-2.5)\n",
    "    S2 = -2.5*np.log10(Llin + 10**(30/-2.5))\n",
    "    return S2\n",
    "\n",
    "# This one is for NGC 4244\n",
    "def ngc4244_surf(r):\n",
    "    # source is radburn-smith et al. 2011 Fig. 3\n",
    "    # gives surface brightness in AB z band\n",
    "    # r should be in. units of arcsec\n",
    "    # ouput is mags/square arcsecond\n",
    "    res = (21 + (3.5/425)*r)*(r<425) + (r>=425)*(13.68 + 0.02545*r)\n",
    "    # we then apply a maximum surfae brightness (more realistic)\n",
    "    Lres = 10**(res/-2.5)\n",
    "    S2 = -2.5*np.log10(Lres + 10**(32/-2.5))\n",
    "    return S2"
   ]
  },
  {
   "cell_type": "code",
   "execution_count": 16,
   "metadata": {},
   "outputs": [
    {
     "data": {
      "text/plain": [
       "(0, 1000)"
      ]
     },
     "execution_count": 16,
     "metadata": {},
     "output_type": "execute_result"
    },
    {
     "name": "stderr",
     "output_type": "stream",
     "text": [
      "/Library/Frameworks/Python.framework/Versions/3.6/lib/python3.6/site-packages/matplotlib/font_manager.py:1241: UserWarning: findfont: Font family ['sans-serif'] not found. Falling back to DejaVu Sans.\n",
      "  (prop.get_family(), self.defaultFamily[fontext]))\n"
     ]
    },
    {
     "data": {
      "image/png": "[encoded data removed]",
      "text/plain": [
       "<Figure size 432x288 with 1 Axes>"
      ]
     },
     "metadata": {
      "needs_background": "light"
     },
     "output_type": "display_data"
    }
   ],
   "source": [
    "# Just displaying the profiles\n",
    "rlin = np.linspace(0,1000,100)\n",
    "\n",
    "plt.plot(rlin,cenA_surf(rlin))\n",
    "plt.plot(rlin,ngc4244_surf(rlin))\n",
    "plt.ylabel(r\"$\\Sigma \\, [{\\rm mag}/{\\rm arsec}^2]$\")\n",
    "plt.xlabel(r\"$r \\, [{\\rm arsec}]$\")\n",
    "plt.ylim(40,20)\n",
    "plt.xlim(0,1000)"
   ]
  },
  {
   "cell_type": "markdown",
   "metadata": {},
   "source": [
    "Okay, now I'm going to use one of those surface brightness profiles to make a surface brightness map and apply the functions we have above to get the expected number of detected stars in a fake observation. I'll then plot the observation on top of the surface brightness map that I've made."
   ]
  },
  {
   "cell_type": "code",
   "execution_count": 17,
   "metadata": {
    "scrolled": true
   },
   "outputs": [
    {
     "name": "stdout",
     "output_type": "stream",
     "text": [
      "The Fraction of the observation that is crowded is 0.031\n",
      "We expect to detect 10202 stars from this observation\n"
     ]
    },
    {
     "data": {
      "image/png": "[encoded data removed]",
      "text/plain": [
       "<Figure size 432x288 with 1 Axes>"
      ]
     },
     "metadata": {
      "needs_background": "light"
     },
     "output_type": "display_data"
    }
   ],
   "source": [
    "N = 512\n",
    "ang_size = 7200 # length of one RST detector in arcsecond\n",
    "# define center of observation relative to some surface brightness profile\n",
    "(x0,y0) = (0,0)\n",
    "xlin = np.linspace(-ang_size/2,ang_size/2,N)\n",
    "(xs,ys) = np.meshgrid(xlin,xlin)\n",
    "# allow for field to be rotated\n",
    "theta_deg = 0. #angle to rotate field by in degrees\n",
    "theta_rad = theta_deg*(np.pi/180) #angle to rotate field by in radians\n",
    "xnew = np.cos(theta_rad)*xs - np.sin(theta_rad)*ys\n",
    "ynew = np.sin(theta_rad)*xs + np.cos(theta_rad)*ys\n",
    "\n",
    "xs = xnew + x0\n",
    "ys = ynew + y0\n",
    "rs = np.sqrt(xs**2 + ys**2)\n",
    "Surf = np.interp(rs,rlin,ngc4244_surf(rlin))\n",
    "\n",
    "# distance to observed galaxy in Mpc\n",
    "d_obs = 4.61\n",
    "# exposure time in seconds\n",
    "texp = 1e3\n",
    "# population parameters and filter choice\n",
    "(meti,agej,filtk) = (10,22,0)\n",
    "# position of center of RST FoV on observation in arcseconds\n",
    "(rst_x0,rst_y0) = (1100,-1100)\n",
    "# rotation angle of RST FoV\n",
    "rst_phi = np.pi/4\n",
    "# number of pixels to use in each chip of the WFI detector\n",
    "# should be much less than 4096 (the actual number of pixels)\n",
    "nchips = 128\n",
    "(fcrowd,ndet) = getN_RST(Surf, ang_size, d_obs,texp,meti,agej,filtk,rst_x0,rst_y0, rst_phi,nchips)\n",
    "print(\"The Fraction of the observation that is crowded is %1.3f\"%(fcrowd))\n",
    "print(\"We expect to detect %d stars from this observation\"%(ndet))\n",
    "\n",
    "ax1 = plt.subplot(111)\n",
    "\n",
    "ax1.imshow(Surf,cmap='binary',extent = (min(xlin),max(xlin),min(xlin),max(xlin)))\n",
    "#plt.colorbar()\n",
    "plot_RST_foV(ax1,rst_x0,rst_y0,3600.0,rst_phi)\n",
    "#plot_RST_foV(ax1,-2000,2000,3600.0,-3*np.pi/4)"
   ]
  },
  {
   "cell_type": "code",
   "execution_count": 18,
   "metadata": {},
   "outputs": [
    {
     "name": "stdout",
     "output_type": "stream",
     "text": [
      "-0.2856520242889809\n"
     ]
    }
   ],
   "source": [
    "meti = 10\n",
    "agej = 22\n",
    "filtk = 5\n",
    "dist = 10\n",
    "dmod = 25 + 5*np.log10(dist)\n",
    "expts = np.logspace(1,5,100)\n",
    "Mlim = ps_detect_5slim[filtk] - dmod + 1.25*np.log10(expts/1e3)\n",
    "ols_fac = get_olsen_term(sigm,ares,Mlim,lum[meti,agej,filtk],fdet[meti,agej,:,0],L2[meti,agej,filtk])\n",
    "lso = 2*Mlim + dmod - ols_fac\n",
    "print(get_Mcrowd(32,dist,meti,agej,filtk))"
   ]
  },
  {
   "cell_type": "code",
   "execution_count": 19,
   "metadata": {
    "scrolled": false
   },
   "outputs": [
    {
     "data": {
      "text/plain": [
       "[Text(0, 0, 'R'),\n",
       " Text(0, 0, 'Z'),\n",
       " Text(0, 0, 'Y'),\n",
       " Text(0, 0, 'W'),\n",
       " Text(0, 0, 'J'),\n",
       " Text(0, 0, 'H'),\n",
       " Text(0, 0, 'F')]"
      ]
     },
     "execution_count": 19,
     "metadata": {},
     "output_type": "execute_result"
    },
    {
     "data": {
      "image/png": "[encoded data removed]",
      "text/plain": [
       "<Figure size 432x288 with 1 Axes>"
      ]
     },
     "metadata": {
      "needs_background": "light"
     },
     "output_type": "display_data"
    }
   ],
   "source": [
    "ax = plt.subplot(111)\n",
    "ax.plot(Nout)\n",
    "ax.set_xticks([0,1,2,3,4,5,6])\n",
    "ax.set_xticklabels(['R','Z','Y','W','J','H','F'])"
   ]
  },
  {
   "cell_type": "code",
   "execution_count": null,
   "metadata": {},
   "outputs": [],
   "source": []
  },
  {
   "cell_type": "code",
   "execution_count": 23,
   "metadata": {},
   "outputs": [
    {
     "data": {
      "image/png": "[encoded data removed]",
      "text/plain": [
       "<Figure size 432x288 with 1 Axes>"
      ]
     },
     "metadata": {
      "needs_background": "light"
     },
     "output_type": "display_data"
    }
   ],
   "source": [
    "# Your code goes here!\n",
    "agej = 22\n",
    "Sigma = 32 # in mag/arcsec^2\n",
    "d = 10 # in Mpc\n",
    "for meti in range(len(metlist)):\n",
    "\n",
    "    sigmas = np.array([Sigma,convert_Sigma(Sigma,0,1,meti,agej),convert_Sigma(Sigma,0,2,meti,agej),\\\n",
    "                       convert_Sigma(Sigma,0,3,meti,agej),convert_Sigma(Sigma,0,4,meti,agej),\n",
    "                       convert_Sigma(Sigma,0,5,meti,agej),convert_Sigma(Sigma,0,6,meti,agej)])\n",
    "\n",
    "    plt.plot(sigmas,c=plt.cm.viridis(meti*1./len(metlist)))\n",
    "#plt.plot(ps_detect_5slim+4.2)"
   ]
  },
  {
   "cell_type": "code",
   "execution_count": null,
   "metadata": {},
   "outputs": [],
   "source": []
  }
 ],
 "metadata": {
  "kernelspec": {
   "display_name": "Python 3",
   "language": "python",
   "name": "python3"
  },
  "language_info": {
   "codemirror_mode": {
    "name": "ipython",
    "version": 3
   },
   "file_extension": ".py",
   "mimetype": "text/x-python",
   "name": "python",
   "nbconvert_exporter": "python",
   "pygments_lexer": "ipython3",
   "version": "3.6.3"
  }
 },
 "nbformat": 4,
 "nbformat_minor": 2
}
